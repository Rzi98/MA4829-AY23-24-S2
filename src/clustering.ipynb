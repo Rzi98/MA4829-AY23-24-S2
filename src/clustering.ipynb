{
 "cells": [
  {
   "cell_type": "markdown",
   "id": "40983b5c",
   "metadata": {},
   "source": [
    "# Hierarchical Clustering "
   ]
  },
  {
   "cell_type": "code",
   "execution_count": 1,
   "id": "07613be6",
   "metadata": {},
   "outputs": [],
   "source": [
    "# Basic Libraries\n",
    "import numpy as np\n",
    "import pandas as pd"
   ]
  },
  {
   "cell_type": "markdown",
   "id": "1fb113fc",
   "metadata": {},
   "source": [
    "### Import the dataset"
   ]
  },
  {
   "cell_type": "code",
   "execution_count": 2,
   "id": "cfbe5872",
   "metadata": {
    "scrolled": true
   },
   "outputs": [
    {
     "data": {
      "text/html": [
       "<div>\n",
       "<style scoped>\n",
       "    .dataframe tbody tr th:only-of-type {\n",
       "        vertical-align: middle;\n",
       "    }\n",
       "\n",
       "    .dataframe tbody tr th {\n",
       "        vertical-align: top;\n",
       "    }\n",
       "\n",
       "    .dataframe thead th {\n",
       "        text-align: right;\n",
       "    }\n",
       "</style>\n",
       "<table border=\"1\" class=\"dataframe\">\n",
       "  <thead>\n",
       "    <tr style=\"text-align: right;\">\n",
       "      <th></th>\n",
       "      <th>Which age group do you belong to?</th>\n",
       "      <th>What is your gender?</th>\n",
       "      <th>Which category do you currently belong to?</th>\n",
       "      <th>Which of the following best describes you?</th>\n",
       "      <th>Which of these factors are important to you when deciding which car to purchase?</th>\n",
       "      <th>How likely are you to opt for customised vehicle if there were no extra charges?</th>\n",
       "      <th>Which of the following exterior components would you choose to customise (texture, layout, size, etc)?</th>\n",
       "      <th>Which of the following interior components would you choose to customise (texture, layout, size, etc)?</th>\n",
       "      <th>How much are you willing to spend on car customisation if surcharges are applicable?</th>\n",
       "      <th>Are you interested in designing your own components to personalise your car?</th>\n",
       "      <th>How much are you willing to pay for the personalised design?</th>\n",
       "      <th>Do you have any 3D design experience that would help with the design process? (e.g. AutoCAD, SolidWorks, Blender, etc)</th>\n",
       "      <th>Please give us any design ideas to make the car uniquely Singaporean.</th>\n",
       "    </tr>\n",
       "  </thead>\n",
       "  <tbody>\n",
       "    <tr>\n",
       "      <th>0</th>\n",
       "      <td>20-30</td>\n",
       "      <td>Male</td>\n",
       "      <td>Do not own a car, but planning to purchase in ...</td>\n",
       "      <td>Single</td>\n",
       "      <td>Price;Functionality;Size;Customisable options</td>\n",
       "      <td>Very likely</td>\n",
       "      <td>Grilles</td>\n",
       "      <td>Centre compartment</td>\n",
       "      <td>100-500</td>\n",
       "      <td>Only with professional help</td>\n",
       "      <td>500-1000</td>\n",
       "      <td>No, I would need a designer to model my sketch</td>\n",
       "      <td>NaN</td>\n",
       "    </tr>\n",
       "    <tr>\n",
       "      <th>1</th>\n",
       "      <td>20-30</td>\n",
       "      <td>Female</td>\n",
       "      <td>Do not own a car, but planning to purchase in ...</td>\n",
       "      <td>Single</td>\n",
       "      <td>Price;Brand name;Aesthetics;Technological feat...</td>\n",
       "      <td>Likely</td>\n",
       "      <td>Wheels;Grilles;Headlights;Side mirrors</td>\n",
       "      <td>Centre compartment</td>\n",
       "      <td>under 500</td>\n",
       "      <td>Only with professional help</td>\n",
       "      <td>under 500</td>\n",
       "      <td>No, I would need a designer to model my sketch</td>\n",
       "      <td>wheels that look like the singapore flyer</td>\n",
       "    </tr>\n",
       "    <tr>\n",
       "      <th>2</th>\n",
       "      <td>20-30</td>\n",
       "      <td>Male</td>\n",
       "      <td>Do not own a car, but planning to purchase in ...</td>\n",
       "      <td>Single</td>\n",
       "      <td>Aesthetics;Functionality;Customisable options</td>\n",
       "      <td>Very likely</td>\n",
       "      <td>Wheels;Grilles;Headlights;Side mirrors</td>\n",
       "      <td>Steering wheel;Dashboard</td>\n",
       "      <td>500-1000</td>\n",
       "      <td>Yes</td>\n",
       "      <td>500-1000</td>\n",
       "      <td>Yes, I can design on my own</td>\n",
       "      <td>NaN</td>\n",
       "    </tr>\n",
       "  </tbody>\n",
       "</table>\n",
       "</div>"
      ],
      "text/plain": [
       "  Which age group do you belong to? What is your gender?  \\\n",
       "0                             20-30                 Male   \n",
       "1                             20-30               Female   \n",
       "2                             20-30                 Male   \n",
       "\n",
       "          Which category do you currently belong to?  \\\n",
       "0  Do not own a car, but planning to purchase in ...   \n",
       "1  Do not own a car, but planning to purchase in ...   \n",
       "2  Do not own a car, but planning to purchase in ...   \n",
       "\n",
       "  Which of the following best describes you?  \\\n",
       "0                                     Single   \n",
       "1                                     Single   \n",
       "2                                     Single   \n",
       "\n",
       "  Which of these factors are important to you when deciding which car to purchase?  \\\n",
       "0      Price;Functionality;Size;Customisable options                                 \n",
       "1  Price;Brand name;Aesthetics;Technological feat...                                 \n",
       "2      Aesthetics;Functionality;Customisable options                                 \n",
       "\n",
       "  How likely are you to opt for customised vehicle if there were no extra charges?   \\\n",
       "0                                        Very likely                                  \n",
       "1                                             Likely                                  \n",
       "2                                        Very likely                                  \n",
       "\n",
       "  Which of the following exterior components would you choose to customise (texture, layout, size, etc)?   \\\n",
       "0                                            Grilles                                                        \n",
       "1             Wheels;Grilles;Headlights;Side mirrors                                                        \n",
       "2             Wheels;Grilles;Headlights;Side mirrors                                                        \n",
       "\n",
       "  Which of the following interior components would you choose to customise (texture, layout, size, etc)?   \\\n",
       "0                                 Centre compartment                                                        \n",
       "1                                 Centre compartment                                                        \n",
       "2                           Steering wheel;Dashboard                                                        \n",
       "\n",
       "  How much are you willing to spend on car customisation if surcharges are applicable?  \\\n",
       "0                                            100-500                                     \n",
       "1                                          under 500                                     \n",
       "2                                           500-1000                                     \n",
       "\n",
       "  Are you interested in designing your own components to personalise your car?   \\\n",
       "0                        Only with professional help                              \n",
       "1                        Only with professional help                              \n",
       "2                                                Yes                              \n",
       "\n",
       "  How much are you willing to pay for the personalised design?   \\\n",
       "0                                           500-1000              \n",
       "1                                          under 500              \n",
       "2                                           500-1000              \n",
       "\n",
       "  Do you have any 3D design experience that would help with the design process? (e.g. AutoCAD, SolidWorks, Blender, etc)  \\\n",
       "0     No, I would need a designer to model my sketch                                                                       \n",
       "1     No, I would need a designer to model my sketch                                                                       \n",
       "2                        Yes, I can design on my own                                                                       \n",
       "\n",
       "  Please give us any design ideas to make the car uniquely Singaporean.  \n",
       "0                                                NaN                     \n",
       "1          wheels that look like the singapore flyer                     \n",
       "2                                                NaN                     "
      ]
     },
     "execution_count": 2,
     "metadata": {},
     "output_type": "execute_result"
    }
   ],
   "source": [
    "carData = pd.read_csv('data.csv') \n",
    "carData.head(3)"
   ]
  },
  {
   "cell_type": "code",
   "execution_count": 3,
   "id": "dc27a4b2",
   "metadata": {},
   "outputs": [
    {
     "data": {
      "text/plain": [
       "(50, 13)"
      ]
     },
     "execution_count": 3,
     "metadata": {},
     "output_type": "execute_result"
    }
   ],
   "source": [
    "carData.shape"
   ]
  },
  {
   "cell_type": "markdown",
   "id": "0fb41832",
   "metadata": {},
   "source": [
    "## Data Cleaning"
   ]
  },
  {
   "cell_type": "markdown",
   "id": "162eb76a",
   "metadata": {},
   "source": [
    "### Remove unnecessary columns"
   ]
  },
  {
   "cell_type": "code",
   "execution_count": 4,
   "id": "bfbe8740",
   "metadata": {
    "scrolled": true
   },
   "outputs": [
    {
     "data": {
      "text/html": [
       "<div>\n",
       "<style scoped>\n",
       "    .dataframe tbody tr th:only-of-type {\n",
       "        vertical-align: middle;\n",
       "    }\n",
       "\n",
       "    .dataframe tbody tr th {\n",
       "        vertical-align: top;\n",
       "    }\n",
       "\n",
       "    .dataframe thead th {\n",
       "        text-align: right;\n",
       "    }\n",
       "</style>\n",
       "<table border=\"1\" class=\"dataframe\">\n",
       "  <thead>\n",
       "    <tr style=\"text-align: right;\">\n",
       "      <th></th>\n",
       "      <th>Which age group do you belong to?</th>\n",
       "      <th>Which of these factors are important to you when deciding which car to purchase?</th>\n",
       "      <th>Which of the following exterior components would you choose to customise (texture, layout, size, etc)?</th>\n",
       "      <th>Which of the following interior components would you choose to customise (texture, layout, size, etc)?</th>\n",
       "      <th>How much are you willing to spend on car customisation if surcharges are applicable?</th>\n",
       "    </tr>\n",
       "  </thead>\n",
       "  <tbody>\n",
       "    <tr>\n",
       "      <th>0</th>\n",
       "      <td>20-30</td>\n",
       "      <td>Price;Functionality;Size;Customisable options</td>\n",
       "      <td>Grilles</td>\n",
       "      <td>Centre compartment</td>\n",
       "      <td>100-500</td>\n",
       "    </tr>\n",
       "    <tr>\n",
       "      <th>1</th>\n",
       "      <td>20-30</td>\n",
       "      <td>Price;Brand name;Aesthetics;Technological feat...</td>\n",
       "      <td>Wheels;Grilles;Headlights;Side mirrors</td>\n",
       "      <td>Centre compartment</td>\n",
       "      <td>under 500</td>\n",
       "    </tr>\n",
       "    <tr>\n",
       "      <th>2</th>\n",
       "      <td>20-30</td>\n",
       "      <td>Aesthetics;Functionality;Customisable options</td>\n",
       "      <td>Wheels;Grilles;Headlights;Side mirrors</td>\n",
       "      <td>Steering wheel;Dashboard</td>\n",
       "      <td>500-1000</td>\n",
       "    </tr>\n",
       "  </tbody>\n",
       "</table>\n",
       "</div>"
      ],
      "text/plain": [
       "  Which age group do you belong to?  \\\n",
       "0                             20-30   \n",
       "1                             20-30   \n",
       "2                             20-30   \n",
       "\n",
       "  Which of these factors are important to you when deciding which car to purchase?  \\\n",
       "0      Price;Functionality;Size;Customisable options                                 \n",
       "1  Price;Brand name;Aesthetics;Technological feat...                                 \n",
       "2      Aesthetics;Functionality;Customisable options                                 \n",
       "\n",
       "  Which of the following exterior components would you choose to customise (texture, layout, size, etc)?   \\\n",
       "0                                            Grilles                                                        \n",
       "1             Wheels;Grilles;Headlights;Side mirrors                                                        \n",
       "2             Wheels;Grilles;Headlights;Side mirrors                                                        \n",
       "\n",
       "  Which of the following interior components would you choose to customise (texture, layout, size, etc)?   \\\n",
       "0                                 Centre compartment                                                        \n",
       "1                                 Centre compartment                                                        \n",
       "2                           Steering wheel;Dashboard                                                        \n",
       "\n",
       "  How much are you willing to spend on car customisation if surcharges are applicable?  \n",
       "0                                            100-500                                    \n",
       "1                                          under 500                                    \n",
       "2                                           500-1000                                    "
      ]
     },
     "execution_count": 4,
     "metadata": {},
     "output_type": "execute_result"
    }
   ],
   "source": [
    "columns_to_drop = [\"Which category do you currently belong to?\", \"How likely are you to opt for customised vehicle if there were no extra charges? \", \"How much are you willing to pay for the personalised design? \", \"Please give us any design ideas to make the car uniquely Singaporean.\", \"Do you have any 3D design experience that would help with the design process? (e.g. AutoCAD, SolidWorks, Blender, etc)\", \"What is your gender?\",\"Which of the following best describes you?\", 'Are you interested in designing your own components to personalise your car? ' ]\n",
    "cleanData = carData.drop(columns=columns_to_drop)\n",
    "cleanData.head(3)"
   ]
  },
  {
   "cell_type": "code",
   "execution_count": 5,
   "id": "eb6d4914",
   "metadata": {},
   "outputs": [
    {
     "data": {
      "text/html": [
       "<div>\n",
       "<style scoped>\n",
       "    .dataframe tbody tr th:only-of-type {\n",
       "        vertical-align: middle;\n",
       "    }\n",
       "\n",
       "    .dataframe tbody tr th {\n",
       "        vertical-align: top;\n",
       "    }\n",
       "\n",
       "    .dataframe thead th {\n",
       "        text-align: right;\n",
       "    }\n",
       "</style>\n",
       "<table border=\"1\" class=\"dataframe\">\n",
       "  <thead>\n",
       "    <tr style=\"text-align: right;\">\n",
       "      <th></th>\n",
       "      <th>Age Group</th>\n",
       "      <th>Which of these factors are important to you when deciding which car to purchase?</th>\n",
       "      <th>Which of the following exterior components would you choose to customise (texture, layout, size, etc)?</th>\n",
       "      <th>Which of the following interior components would you choose to customise (texture, layout, size, etc)?</th>\n",
       "      <th>How much are you willing to spend on car customisation if surcharges are applicable?</th>\n",
       "    </tr>\n",
       "  </thead>\n",
       "  <tbody>\n",
       "    <tr>\n",
       "      <th>0</th>\n",
       "      <td>1</td>\n",
       "      <td>Price;Functionality;Size;Customisable options</td>\n",
       "      <td>Grilles</td>\n",
       "      <td>Centre compartment</td>\n",
       "      <td>100-500</td>\n",
       "    </tr>\n",
       "    <tr>\n",
       "      <th>1</th>\n",
       "      <td>1</td>\n",
       "      <td>Price;Brand name;Aesthetics;Technological feat...</td>\n",
       "      <td>Wheels;Grilles;Headlights;Side mirrors</td>\n",
       "      <td>Centre compartment</td>\n",
       "      <td>under 500</td>\n",
       "    </tr>\n",
       "    <tr>\n",
       "      <th>2</th>\n",
       "      <td>1</td>\n",
       "      <td>Aesthetics;Functionality;Customisable options</td>\n",
       "      <td>Wheels;Grilles;Headlights;Side mirrors</td>\n",
       "      <td>Steering wheel;Dashboard</td>\n",
       "      <td>500-1000</td>\n",
       "    </tr>\n",
       "  </tbody>\n",
       "</table>\n",
       "</div>"
      ],
      "text/plain": [
       "   Age Group  \\\n",
       "0          1   \n",
       "1          1   \n",
       "2          1   \n",
       "\n",
       "  Which of these factors are important to you when deciding which car to purchase?  \\\n",
       "0      Price;Functionality;Size;Customisable options                                 \n",
       "1  Price;Brand name;Aesthetics;Technological feat...                                 \n",
       "2      Aesthetics;Functionality;Customisable options                                 \n",
       "\n",
       "  Which of the following exterior components would you choose to customise (texture, layout, size, etc)?   \\\n",
       "0                                            Grilles                                                        \n",
       "1             Wheels;Grilles;Headlights;Side mirrors                                                        \n",
       "2             Wheels;Grilles;Headlights;Side mirrors                                                        \n",
       "\n",
       "  Which of the following interior components would you choose to customise (texture, layout, size, etc)?   \\\n",
       "0                                 Centre compartment                                                        \n",
       "1                                 Centre compartment                                                        \n",
       "2                           Steering wheel;Dashboard                                                        \n",
       "\n",
       "  How much are you willing to spend on car customisation if surcharges are applicable?  \n",
       "0                                            100-500                                    \n",
       "1                                          under 500                                    \n",
       "2                                           500-1000                                    "
      ]
     },
     "execution_count": 5,
     "metadata": {},
     "output_type": "execute_result"
    }
   ],
   "source": [
    "import pandas as pd\n",
    "\n",
    "age_mapping = {'20-30': 1, '31-40': 2, '41-50': 3, '51-60': 4, '61-70': 5, '71+': 6}\n",
    "cleanData['Age Group'] = cleanData['Which age group do you belong to?'].map(age_mapping)\n",
    "\n",
    "# Reorder columns w\n",
    "cleanData = cleanData[['Age Group'] + [col for col in cleanData.columns if col != 'Age Group']]\n",
    "\n",
    "# Drop 'Which age group do you belong to?'\n",
    "cleanData.drop('Which age group do you belong to?', axis=1, inplace=True)\n",
    "\n",
    "# Display the updated DataFrame\n",
    "cleanData.head(3)"
   ]
  },
  {
   "cell_type": "code",
   "execution_count": 6,
   "id": "5d0159dd",
   "metadata": {
    "scrolled": true
   },
   "outputs": [
    {
     "data": {
      "text/plain": [
       "Index(['Age Group',\n",
       "       'Which of these factors are important to you when deciding which car to purchase?',\n",
       "       'Which of the following exterior components would you choose to customise (texture, layout, size, etc)? ',\n",
       "       'Which of the following interior components would you choose to customise (texture, layout, size, etc)? ',\n",
       "       'How much are you willing to spend on car customisation if surcharges are applicable?'],\n",
       "      dtype='object')"
      ]
     },
     "execution_count": 6,
     "metadata": {},
     "output_type": "execute_result"
    }
   ],
   "source": [
    "cleanData.columns"
   ]
  },
  {
   "cell_type": "markdown",
   "id": "3e537c17",
   "metadata": {},
   "source": [
    "### Separate different factors"
   ]
  },
  {
   "cell_type": "code",
   "execution_count": 48,
   "id": "9bbe84ec",
   "metadata": {
    "scrolled": true
   },
   "outputs": [
    {
     "data": {
      "text/html": [
       "<div>\n",
       "<style scoped>\n",
       "    .dataframe tbody tr th:only-of-type {\n",
       "        vertical-align: middle;\n",
       "    }\n",
       "\n",
       "    .dataframe tbody tr th {\n",
       "        vertical-align: top;\n",
       "    }\n",
       "\n",
       "    .dataframe thead th {\n",
       "        text-align: right;\n",
       "    }\n",
       "</style>\n",
       "<table border=\"1\" class=\"dataframe\">\n",
       "  <thead>\n",
       "    <tr style=\"text-align: right;\">\n",
       "      <th></th>\n",
       "      <th>Age Group</th>\n",
       "      <th>Which of these factors are important to you when deciding which car to purchase?</th>\n",
       "      <th>How much are you willing to spend on car customisation if surcharges are applicable?</th>\n",
       "    </tr>\n",
       "  </thead>\n",
       "  <tbody>\n",
       "    <tr>\n",
       "      <th>0</th>\n",
       "      <td>1</td>\n",
       "      <td>Price;Functionality;Size;Customisable options</td>\n",
       "      <td>100-500</td>\n",
       "    </tr>\n",
       "    <tr>\n",
       "      <th>1</th>\n",
       "      <td>1</td>\n",
       "      <td>Price;Brand name;Aesthetics;Technological feat...</td>\n",
       "      <td>under 500</td>\n",
       "    </tr>\n",
       "    <tr>\n",
       "      <th>2</th>\n",
       "      <td>1</td>\n",
       "      <td>Aesthetics;Functionality;Customisable options</td>\n",
       "      <td>500-1000</td>\n",
       "    </tr>\n",
       "  </tbody>\n",
       "</table>\n",
       "</div>"
      ],
      "text/plain": [
       "   Age Group  \\\n",
       "0          1   \n",
       "1          1   \n",
       "2          1   \n",
       "\n",
       "  Which of these factors are important to you when deciding which car to purchase?  \\\n",
       "0      Price;Functionality;Size;Customisable options                                 \n",
       "1  Price;Brand name;Aesthetics;Technological feat...                                 \n",
       "2      Aesthetics;Functionality;Customisable options                                 \n",
       "\n",
       "  How much are you willing to spend on car customisation if surcharges are applicable?  \n",
       "0                                            100-500                                    \n",
       "1                                          under 500                                    \n",
       "2                                           500-1000                                    "
      ]
     },
     "execution_count": 48,
     "metadata": {},
     "output_type": "execute_result"
    }
   ],
   "source": [
    "columns_to_drop = ['Which of the following exterior components would you choose to customise (texture, layout, size, etc)? ',\n",
    "       'Which of the following interior components would you choose to customise (texture, layout, size, etc)? ',  ]\n",
    "\n",
    "factorData = cleanData.drop(columns=columns_to_drop)\n",
    "factorData.head(3)"
   ]
  },
  {
   "cell_type": "code",
   "execution_count": 49,
   "id": "c1092119",
   "metadata": {
    "scrolled": false
   },
   "outputs": [
    {
     "data": {
      "text/html": [
       "<div>\n",
       "<style scoped>\n",
       "    .dataframe tbody tr th:only-of-type {\n",
       "        vertical-align: middle;\n",
       "    }\n",
       "\n",
       "    .dataframe tbody tr th {\n",
       "        vertical-align: top;\n",
       "    }\n",
       "\n",
       "    .dataframe thead th {\n",
       "        text-align: right;\n",
       "    }\n",
       "</style>\n",
       "<table border=\"1\" class=\"dataframe\">\n",
       "  <thead>\n",
       "    <tr style=\"text-align: right;\">\n",
       "      <th></th>\n",
       "      <th>Age Group</th>\n",
       "      <th>How much are you willing to spend on car customisation if surcharges are applicable?</th>\n",
       "      <th>Aesthetics</th>\n",
       "      <th>Brand name</th>\n",
       "      <th>Customisable options</th>\n",
       "      <th>Functionality</th>\n",
       "      <th>Price</th>\n",
       "      <th>Size</th>\n",
       "      <th>Sustainability/environment considerations</th>\n",
       "      <th>Technological features</th>\n",
       "    </tr>\n",
       "  </thead>\n",
       "  <tbody>\n",
       "    <tr>\n",
       "      <th>0</th>\n",
       "      <td>1</td>\n",
       "      <td>100-500</td>\n",
       "      <td>0</td>\n",
       "      <td>0</td>\n",
       "      <td>1</td>\n",
       "      <td>1</td>\n",
       "      <td>1</td>\n",
       "      <td>1</td>\n",
       "      <td>0</td>\n",
       "      <td>0</td>\n",
       "    </tr>\n",
       "    <tr>\n",
       "      <th>1</th>\n",
       "      <td>1</td>\n",
       "      <td>under 500</td>\n",
       "      <td>1</td>\n",
       "      <td>1</td>\n",
       "      <td>0</td>\n",
       "      <td>1</td>\n",
       "      <td>1</td>\n",
       "      <td>1</td>\n",
       "      <td>1</td>\n",
       "      <td>1</td>\n",
       "    </tr>\n",
       "    <tr>\n",
       "      <th>2</th>\n",
       "      <td>1</td>\n",
       "      <td>500-1000</td>\n",
       "      <td>1</td>\n",
       "      <td>0</td>\n",
       "      <td>1</td>\n",
       "      <td>1</td>\n",
       "      <td>0</td>\n",
       "      <td>0</td>\n",
       "      <td>0</td>\n",
       "      <td>0</td>\n",
       "    </tr>\n",
       "  </tbody>\n",
       "</table>\n",
       "</div>"
      ],
      "text/plain": [
       "   Age Group  \\\n",
       "0          1   \n",
       "1          1   \n",
       "2          1   \n",
       "\n",
       "  How much are you willing to spend on car customisation if surcharges are applicable?  \\\n",
       "0                                            100-500                                     \n",
       "1                                          under 500                                     \n",
       "2                                           500-1000                                     \n",
       "\n",
       "   Aesthetics  Brand name  Customisable options  Functionality  Price  Size  \\\n",
       "0           0           0                     1              1      1     1   \n",
       "1           1           1                     0              1      1     1   \n",
       "2           1           0                     1              1      0     0   \n",
       "\n",
       "   Sustainability/environment considerations  Technological features  \n",
       "0                                          0                       0  \n",
       "1                                          1                       1  \n",
       "2                                          0                       0  "
      ]
     },
     "execution_count": 49,
     "metadata": {},
     "output_type": "execute_result"
    }
   ],
   "source": [
    "# Extract the relevant columns to split\n",
    "categories_columns = ['Which of these factors are important to you when deciding which car to purchase?']\n",
    "\n",
    "# Iterate over each category column (one-hot enconding)\n",
    "for column in categories_columns:\n",
    "    category_dummies = factorData[column].str.get_dummies(';') \n",
    "    \n",
    "  \n",
    "    # Concatenate the one-hot encoded columns to the original DataFrame\n",
    "    factorData= pd.concat([factorData, category_dummies], axis=1)\n",
    "\n",
    "# Drop the original multi-category columns\n",
    "factorData = factorData.drop(categories_columns, axis=1)\n",
    "\n",
    "# Display the modified DataFrame\n",
    "factorData.head(3)\n"
   ]
  },
  {
   "cell_type": "markdown",
   "id": "1cf2dce8",
   "metadata": {},
   "source": [
    "### Separate different exteriors"
   ]
  },
  {
   "cell_type": "code",
   "execution_count": 9,
   "id": "26f30e54",
   "metadata": {},
   "outputs": [
    {
     "data": {
      "text/html": [
       "<div>\n",
       "<style scoped>\n",
       "    .dataframe tbody tr th:only-of-type {\n",
       "        vertical-align: middle;\n",
       "    }\n",
       "\n",
       "    .dataframe tbody tr th {\n",
       "        vertical-align: top;\n",
       "    }\n",
       "\n",
       "    .dataframe thead th {\n",
       "        text-align: right;\n",
       "    }\n",
       "</style>\n",
       "<table border=\"1\" class=\"dataframe\">\n",
       "  <thead>\n",
       "    <tr style=\"text-align: right;\">\n",
       "      <th></th>\n",
       "      <th>Age Group</th>\n",
       "      <th>Which of the following exterior components would you choose to customise (texture, layout, size, etc)?</th>\n",
       "      <th>How much are you willing to spend on car customisation if surcharges are applicable?</th>\n",
       "    </tr>\n",
       "  </thead>\n",
       "  <tbody>\n",
       "    <tr>\n",
       "      <th>0</th>\n",
       "      <td>1</td>\n",
       "      <td>Grilles</td>\n",
       "      <td>100-500</td>\n",
       "    </tr>\n",
       "    <tr>\n",
       "      <th>1</th>\n",
       "      <td>1</td>\n",
       "      <td>Wheels;Grilles;Headlights;Side mirrors</td>\n",
       "      <td>under 500</td>\n",
       "    </tr>\n",
       "    <tr>\n",
       "      <th>2</th>\n",
       "      <td>1</td>\n",
       "      <td>Wheels;Grilles;Headlights;Side mirrors</td>\n",
       "      <td>500-1000</td>\n",
       "    </tr>\n",
       "  </tbody>\n",
       "</table>\n",
       "</div>"
      ],
      "text/plain": [
       "   Age Group  \\\n",
       "0          1   \n",
       "1          1   \n",
       "2          1   \n",
       "\n",
       "  Which of the following exterior components would you choose to customise (texture, layout, size, etc)?   \\\n",
       "0                                            Grilles                                                        \n",
       "1             Wheels;Grilles;Headlights;Side mirrors                                                        \n",
       "2             Wheels;Grilles;Headlights;Side mirrors                                                        \n",
       "\n",
       "  How much are you willing to spend on car customisation if surcharges are applicable?  \n",
       "0                                            100-500                                    \n",
       "1                                          under 500                                    \n",
       "2                                           500-1000                                    "
      ]
     },
     "execution_count": 9,
     "metadata": {},
     "output_type": "execute_result"
    }
   ],
   "source": [
    "columns_to_drop = [ 'Which of these factors are important to you when deciding which car to purchase?',\n",
    "       'Which of the following interior components would you choose to customise (texture, layout, size, etc)? ']\n",
    "\n",
    "exteriorData = cleanData.drop(columns=columns_to_drop)\n",
    "exteriorData.head(3)"
   ]
  },
  {
   "cell_type": "code",
   "execution_count": 10,
   "id": "4aa97f96",
   "metadata": {},
   "outputs": [
    {
     "data": {
      "text/html": [
       "<div>\n",
       "<style scoped>\n",
       "    .dataframe tbody tr th:only-of-type {\n",
       "        vertical-align: middle;\n",
       "    }\n",
       "\n",
       "    .dataframe tbody tr th {\n",
       "        vertical-align: top;\n",
       "    }\n",
       "\n",
       "    .dataframe thead th {\n",
       "        text-align: right;\n",
       "    }\n",
       "</style>\n",
       "<table border=\"1\" class=\"dataframe\">\n",
       "  <thead>\n",
       "    <tr style=\"text-align: right;\">\n",
       "      <th></th>\n",
       "      <th>Age Group</th>\n",
       "      <th>How much are you willing to spend on car customisation if surcharges are applicable?</th>\n",
       "      <th>Brakes</th>\n",
       "      <th>Bumpers</th>\n",
       "      <th>Grilles</th>\n",
       "      <th>Headlights</th>\n",
       "      <th>Side mirrors</th>\n",
       "      <th>Wheels</th>\n",
       "      <th>add body kit and change the exhaust and tune the engine</th>\n",
       "      <th>doors</th>\n",
       "    </tr>\n",
       "  </thead>\n",
       "  <tbody>\n",
       "    <tr>\n",
       "      <th>0</th>\n",
       "      <td>1</td>\n",
       "      <td>100-500</td>\n",
       "      <td>0</td>\n",
       "      <td>0</td>\n",
       "      <td>1</td>\n",
       "      <td>0</td>\n",
       "      <td>0</td>\n",
       "      <td>0</td>\n",
       "      <td>0</td>\n",
       "      <td>0</td>\n",
       "    </tr>\n",
       "    <tr>\n",
       "      <th>1</th>\n",
       "      <td>1</td>\n",
       "      <td>under 500</td>\n",
       "      <td>0</td>\n",
       "      <td>0</td>\n",
       "      <td>1</td>\n",
       "      <td>1</td>\n",
       "      <td>1</td>\n",
       "      <td>1</td>\n",
       "      <td>0</td>\n",
       "      <td>0</td>\n",
       "    </tr>\n",
       "    <tr>\n",
       "      <th>2</th>\n",
       "      <td>1</td>\n",
       "      <td>500-1000</td>\n",
       "      <td>0</td>\n",
       "      <td>0</td>\n",
       "      <td>1</td>\n",
       "      <td>1</td>\n",
       "      <td>1</td>\n",
       "      <td>1</td>\n",
       "      <td>0</td>\n",
       "      <td>0</td>\n",
       "    </tr>\n",
       "  </tbody>\n",
       "</table>\n",
       "</div>"
      ],
      "text/plain": [
       "   Age Group  \\\n",
       "0          1   \n",
       "1          1   \n",
       "2          1   \n",
       "\n",
       "  How much are you willing to spend on car customisation if surcharges are applicable?  \\\n",
       "0                                            100-500                                     \n",
       "1                                          under 500                                     \n",
       "2                                           500-1000                                     \n",
       "\n",
       "   Brakes  Bumpers  Grilles  Headlights  Side mirrors  Wheels  \\\n",
       "0       0        0        1           0             0       0   \n",
       "1       0        0        1           1             1       1   \n",
       "2       0        0        1           1             1       1   \n",
       "\n",
       "   add body kit and change the exhaust and tune the engine  doors  \n",
       "0                                                  0            0  \n",
       "1                                                  0            0  \n",
       "2                                                  0            0  "
      ]
     },
     "execution_count": 10,
     "metadata": {},
     "output_type": "execute_result"
    }
   ],
   "source": [
    "# Extract the relevant columns to split\n",
    "categories_columns = ['Which of the following exterior components would you choose to customise (texture, layout, size, etc)? ']\n",
    "\n",
    "# Iterate over each category column (one-hot enconding)\n",
    "for column in categories_columns:\n",
    "    category_dummies = exteriorData[column].str.get_dummies(';') \n",
    "  \n",
    "    # Concatenate the one-hot encoded columns to the original DataFrame\n",
    "    exteriorData= pd.concat([exteriorData, category_dummies], axis=1)\n",
    "\n",
    "# Drop the original multi-category columns\n",
    "exteriorData = exteriorData.drop(categories_columns, axis=1)\n",
    "\n",
    "# Display the modified DataFrame\n",
    "exteriorData.head(3)"
   ]
  },
  {
   "cell_type": "markdown",
   "id": "95a01375",
   "metadata": {},
   "source": [
    "### Separate different interiors"
   ]
  },
  {
   "cell_type": "code",
   "execution_count": 11,
   "id": "b46a9622",
   "metadata": {},
   "outputs": [
    {
     "data": {
      "text/html": [
       "<div>\n",
       "<style scoped>\n",
       "    .dataframe tbody tr th:only-of-type {\n",
       "        vertical-align: middle;\n",
       "    }\n",
       "\n",
       "    .dataframe tbody tr th {\n",
       "        vertical-align: top;\n",
       "    }\n",
       "\n",
       "    .dataframe thead th {\n",
       "        text-align: right;\n",
       "    }\n",
       "</style>\n",
       "<table border=\"1\" class=\"dataframe\">\n",
       "  <thead>\n",
       "    <tr style=\"text-align: right;\">\n",
       "      <th></th>\n",
       "      <th>Age Group</th>\n",
       "      <th>Which of the following interior components would you choose to customise (texture, layout, size, etc)?</th>\n",
       "      <th>How much are you willing to spend on car customisation if surcharges are applicable?</th>\n",
       "    </tr>\n",
       "  </thead>\n",
       "  <tbody>\n",
       "    <tr>\n",
       "      <th>0</th>\n",
       "      <td>1</td>\n",
       "      <td>Centre compartment</td>\n",
       "      <td>100-500</td>\n",
       "    </tr>\n",
       "    <tr>\n",
       "      <th>1</th>\n",
       "      <td>1</td>\n",
       "      <td>Centre compartment</td>\n",
       "      <td>under 500</td>\n",
       "    </tr>\n",
       "    <tr>\n",
       "      <th>2</th>\n",
       "      <td>1</td>\n",
       "      <td>Steering wheel;Dashboard</td>\n",
       "      <td>500-1000</td>\n",
       "    </tr>\n",
       "  </tbody>\n",
       "</table>\n",
       "</div>"
      ],
      "text/plain": [
       "   Age Group  \\\n",
       "0          1   \n",
       "1          1   \n",
       "2          1   \n",
       "\n",
       "  Which of the following interior components would you choose to customise (texture, layout, size, etc)?   \\\n",
       "0                                 Centre compartment                                                        \n",
       "1                                 Centre compartment                                                        \n",
       "2                           Steering wheel;Dashboard                                                        \n",
       "\n",
       "  How much are you willing to spend on car customisation if surcharges are applicable?  \n",
       "0                                            100-500                                    \n",
       "1                                          under 500                                    \n",
       "2                                           500-1000                                    "
      ]
     },
     "execution_count": 11,
     "metadata": {},
     "output_type": "execute_result"
    }
   ],
   "source": [
    "columns_to_drop = [ 'Which of these factors are important to you when deciding which car to purchase?',\n",
    "       'Which of the following exterior components would you choose to customise (texture, layout, size, etc)? ']\n",
    "\n",
    "interiorData = cleanData.drop(columns=columns_to_drop)\n",
    "interiorData.head(3)"
   ]
  },
  {
   "cell_type": "code",
   "execution_count": 12,
   "id": "c1a3d82f",
   "metadata": {
    "scrolled": true
   },
   "outputs": [
    {
     "data": {
      "text/html": [
       "<div>\n",
       "<style scoped>\n",
       "    .dataframe tbody tr th:only-of-type {\n",
       "        vertical-align: middle;\n",
       "    }\n",
       "\n",
       "    .dataframe tbody tr th {\n",
       "        vertical-align: top;\n",
       "    }\n",
       "\n",
       "    .dataframe thead th {\n",
       "        text-align: right;\n",
       "    }\n",
       "</style>\n",
       "<table border=\"1\" class=\"dataframe\">\n",
       "  <thead>\n",
       "    <tr style=\"text-align: right;\">\n",
       "      <th></th>\n",
       "      <th>Age Group</th>\n",
       "      <th>How much are you willing to spend on car customisation if surcharges are applicable?</th>\n",
       "      <th>Centre compartment</th>\n",
       "      <th>Dashboard</th>\n",
       "      <th>Door handles</th>\n",
       "      <th>Steering wheel</th>\n",
       "      <th>Sun blocker for front passengers</th>\n",
       "      <th>air vent</th>\n",
       "    </tr>\n",
       "  </thead>\n",
       "  <tbody>\n",
       "    <tr>\n",
       "      <th>0</th>\n",
       "      <td>1</td>\n",
       "      <td>100-500</td>\n",
       "      <td>1</td>\n",
       "      <td>0</td>\n",
       "      <td>0</td>\n",
       "      <td>0</td>\n",
       "      <td>0</td>\n",
       "      <td>0</td>\n",
       "    </tr>\n",
       "    <tr>\n",
       "      <th>1</th>\n",
       "      <td>1</td>\n",
       "      <td>under 500</td>\n",
       "      <td>1</td>\n",
       "      <td>0</td>\n",
       "      <td>0</td>\n",
       "      <td>0</td>\n",
       "      <td>0</td>\n",
       "      <td>0</td>\n",
       "    </tr>\n",
       "    <tr>\n",
       "      <th>2</th>\n",
       "      <td>1</td>\n",
       "      <td>500-1000</td>\n",
       "      <td>0</td>\n",
       "      <td>1</td>\n",
       "      <td>0</td>\n",
       "      <td>1</td>\n",
       "      <td>0</td>\n",
       "      <td>0</td>\n",
       "    </tr>\n",
       "  </tbody>\n",
       "</table>\n",
       "</div>"
      ],
      "text/plain": [
       "   Age Group  \\\n",
       "0          1   \n",
       "1          1   \n",
       "2          1   \n",
       "\n",
       "  How much are you willing to spend on car customisation if surcharges are applicable?  \\\n",
       "0                                            100-500                                     \n",
       "1                                          under 500                                     \n",
       "2                                           500-1000                                     \n",
       "\n",
       "   Centre compartment  Dashboard  Door handles  Steering wheel  \\\n",
       "0                   1          0             0               0   \n",
       "1                   1          0             0               0   \n",
       "2                   0          1             0               1   \n",
       "\n",
       "   Sun blocker for front passengers  air vent  \n",
       "0                                 0         0  \n",
       "1                                 0         0  \n",
       "2                                 0         0  "
      ]
     },
     "execution_count": 12,
     "metadata": {},
     "output_type": "execute_result"
    }
   ],
   "source": [
    "# Extract the relevant columns to split\n",
    "categories_columns = ['Which of the following interior components would you choose to customise (texture, layout, size, etc)? ']\n",
    "\n",
    "# Iterate over each category column (one-hot enconding)\n",
    "for column in categories_columns:\n",
    "    category_dummies = interiorData[column].str.get_dummies(';') \n",
    "    \n",
    "    # Concatenate the one-hot encoded columns to the original DataFrame\n",
    "    interiorData= pd.concat([interiorData, category_dummies], axis=1)\n",
    "\n",
    "# Drop the original multi-category columns\n",
    "interiorData = interiorData.drop(categories_columns, axis=1)\n",
    "\n",
    "# Display the modified DataFrame\n",
    "interiorData.head(3)"
   ]
  },
  {
   "cell_type": "markdown",
   "id": "0331a44d",
   "metadata": {},
   "source": [
    "## Clustering of Factors"
   ]
  },
  {
   "cell_type": "code",
   "execution_count": 53,
   "id": "540e1df4",
   "metadata": {},
   "outputs": [],
   "source": [
    "from scipy.cluster.hierarchy import dendrogram, linkage, fcluster, cophenet\n",
    "from scipy.spatial.distance import pdist\n",
    "from sklearn.metrics import silhouette_score\n",
    "import matplotlib.pyplot as plt"
   ]
  },
  {
   "cell_type": "code",
   "execution_count": 54,
   "id": "8b9f3681",
   "metadata": {
    "scrolled": false
   },
   "outputs": [
    {
     "data": {
      "image/png": "[encoded data removed]",
      "text/plain": [
       "<Figure size 720x432 with 1 Axes>"
      ]
     },
     "metadata": {
      "needs_background": "light"
     },
     "output_type": "display_data"
    },
    {
     "name": "stdout",
     "output_type": "stream",
     "text": [
      "Cluster Assignments:\n",
      "[2 4 2 4 4 4 1 5 4 3 4 4 5 4 4 3 3 4 4 1 1 4 1 5 5 1 5 4 2 3 3 3 5 4 4 4 1\n",
      " 4 5 3 3 4 4 1 4 5 1 4 1 5]\n"
     ]
    }
   ],
   "source": [
    "# Exclude the first two columns (Age Group and Spending Range)\n",
    "data_without_age_income = factorData.iloc[:, 2:]\n",
    "\n",
    "# Hierarchical clustering\n",
    "linkage_matrix = linkage(data_without_age_income, method='complete', metric='euclidean')\n",
    "\n",
    "# Dendrogram\n",
    "plt.figure(figsize=(10, 6))\n",
    "dendrogram(linkage_matrix, labels=factorData.index)\n",
    "plt.title('Hierarchical Clustering Dendrogram')\n",
    "plt.xlabel('Data Point')\n",
    "plt.ylabel('Distance')\n",
    "plt.show()\n",
    "\n",
    "# Assign cluster labels based on a threshold or number of clusters\n",
    "threshold = 2  # adjust as needed\n",
    "clusters = fcluster(linkage_matrix, t=threshold, criterion='distance')\n",
    "\n",
    "print(\"Cluster Assignments:\")\n",
    "print(clusters)"
   ]
  },
  {
   "cell_type": "code",
   "execution_count": 55,
   "id": "4da60478",
   "metadata": {
    "scrolled": true
   },
   "outputs": [
    {
     "name": "stdout",
     "output_type": "stream",
     "text": [
      "Silhouette Score: 0.16675817939869161\n",
      "Cophenetic Correlation Coefficient: 0.6539436732843917\n"
     ]
    }
   ],
   "source": [
    "# Silhouette Score\n",
    "silhouette_avg = silhouette_score(data_without_age_income, clusters)\n",
    "print(f\"Silhouette Score: {silhouette_avg}\")\n",
    "\n",
    "# Cophenetic Correlation Coefficient\n",
    "coph_corr, _ = cophenet(linkage_matrix, pdist(data_without_age_income))\n",
    "print(f\"Cophenetic Correlation Coefficient: {coph_corr}\")"
   ]
  },
  {
   "cell_type": "markdown",
   "id": "a19b01e2",
   "metadata": {},
   "source": [
    "### Analysis\n",
    "\n",
    "- The cluster assignments show five distinct clusters.\n",
    "- The Silhouette Score of approximately 0.17 indicates a moderate level of separation between clusters\n",
    "- The Cophenetic Correlation Coefficient of about 0.65 suggests a moderate fidelity in preserving pairwise distances through hierarchical clustering. \n",
    "\n",
    "Five clusters imply that there are five distinct groups of people who consider the same set of factors when buying a car. However, the low silhoutte score indicates the level of distinction between the groups to be low - this means that majority of the feature subsets overlap between the five clusters."
   ]
  },
  {
   "cell_type": "markdown",
   "id": "e9c1cfb6",
   "metadata": {},
   "source": [
    "## Clustering of Interior Preferences"
   ]
  },
  {
   "cell_type": "code",
   "execution_count": 70,
   "id": "1fa66ab8",
   "metadata": {},
   "outputs": [
    {
     "data": {
      "image/png": "[encoded data removed]",
      "text/plain": [
       "<Figure size 720x432 with 1 Axes>"
      ]
     },
     "metadata": {
      "needs_background": "light"
     },
     "output_type": "display_data"
    },
    {
     "name": "stdout",
     "output_type": "stream",
     "text": [
      "Cluster Assignments:\n",
      "[ 2  2  7 10  5  9  7  9 10  4  5  7  6  2  7  1  1  5  7  5  7  7 10  7\n",
      "  3  9  3  1  9  7  5  7  7  6  7 10  7  7 10  4  7  8  5  2  1  7 10  7\n",
      "  7 10]\n"
     ]
    }
   ],
   "source": [
    "# Exclude the first two columns (Age Group and Spending Range)\n",
    "data_without_age_income = interiorData.iloc[:, 2:]\n",
    "\n",
    "# Hierarchical clustering\n",
    "linkage_matrix = linkage(data_without_age_income, method='complete', metric='euclidean')\n",
    "\n",
    "# Dendrogram\n",
    "plt.figure(figsize=(10, 6))\n",
    "dendrogram(linkage_matrix, labels=interiorData.index)\n",
    "plt.title('Hierarchical Clustering Dendrogram')\n",
    "plt.xlabel('Data Point')\n",
    "plt.ylabel('Distance')\n",
    "plt.show()\n",
    "\n",
    "# Assign cluster labels based on a threshold or number of clusters\n",
    "threshold = 1.4  # adjust as needed\n",
    "clusters = fcluster(linkage_matrix, t=threshold, criterion='distance')\n",
    "\n",
    "print(\"Cluster Assignments:\")\n",
    "print(clusters)"
   ]
  },
  {
   "cell_type": "code",
   "execution_count": 71,
   "id": "2c2abff8",
   "metadata": {},
   "outputs": [
    {
     "name": "stdout",
     "output_type": "stream",
     "text": [
      "Silhouette Score: 0.5973951543814209\n",
      "Cophenetic Correlation Coefficient: 0.8524621349855422\n"
     ]
    }
   ],
   "source": [
    "# Silhouette Score\n",
    "silhouette_avg = silhouette_score(data_without_age_income, clusters)\n",
    "print(f\"Silhouette Score: {silhouette_avg}\")\n",
    "\n",
    "# Cophenetic Correlation Coefficient\n",
    "coph_corr, _ = cophenet(linkage_matrix, pdist(data_without_age_income))\n",
    "print(f\"Cophenetic Correlation Coefficient: {coph_corr}\")"
   ]
  },
  {
   "cell_type": "markdown",
   "id": "b89095ab",
   "metadata": {},
   "source": [
    "### Analysis\n",
    "\n",
    "- The cluster assignments show 10 distinct clusters.\n",
    "- The Silhouette Score of approximately 0.60 indicates a relatively high level of separation between clusters\n",
    "- The Cophenetic Correlation Coefficient of about 0.85 suggests a high fidelity in preserving pairwise distances through hierarchical clustering. \n",
    "\n",
    "Ten clusters imply that there are ten distinct groups of people who consider the same set of interior features when buying a car. Combined with the relatively high silhoutte score, apriori algorithm can be further used to understand the influence the different interior features exhibit on one another."
   ]
  },
  {
   "cell_type": "markdown",
   "id": "6b38a52c",
   "metadata": {},
   "source": [
    "## Clustering of Exterior Features"
   ]
  },
  {
   "cell_type": "code",
   "execution_count": 84,
   "id": "55802962",
   "metadata": {},
   "outputs": [
    {
     "data": {
      "image/png": "[encoded data removed]",
      "text/plain": [
       "<Figure size 720x432 with 1 Axes>"
      ]
     },
     "metadata": {
      "needs_background": "light"
     },
     "output_type": "display_data"
    },
    {
     "name": "stdout",
     "output_type": "stream",
     "text": [
      "Cluster Assignments:\n",
      "[ 3  6  6  8  8  2  3  3  4 11 10  4 10 11  5 12 13 11 11 14  1 13 11 13\n",
      " 10  7 14 10  6 11  2 14  1  8 14  8 14 12 11  2  9 14 12 14 11 14  1 11\n",
      "  2 10]\n"
     ]
    }
   ],
   "source": [
    "# Exclude the first two columns (Age Group and Spending Range)\n",
    "data_without_age_income = exteriorData.iloc[:, 2:]\n",
    "\n",
    "# Hierarchical clustering\n",
    "linkage_matrix = linkage(data_without_age_income, method='complete', metric='euclidean')\n",
    "\n",
    "# Dendrogram\n",
    "plt.figure(figsize=(10, 6))\n",
    "dendrogram(linkage_matrix, labels=exteriorData.index)\n",
    "plt.title('Hierarchical Clustering Dendrogram')\n",
    "plt.xlabel('Data Point')\n",
    "plt.ylabel('Distance')\n",
    "plt.show()\n",
    "\n",
    "# Assign cluster labels based on a threshold or number of clusters\n",
    "threshold = 1.4  # adjust as needed\n",
    "clusters = fcluster(linkage_matrix, t=threshold, criterion='distance')\n",
    "\n",
    "print(\"Cluster Assignments:\")\n",
    "print(clusters)"
   ]
  },
  {
   "cell_type": "code",
   "execution_count": 85,
   "id": "32cbbc3d",
   "metadata": {},
   "outputs": [
    {
     "name": "stdout",
     "output_type": "stream",
     "text": [
      "Silhouette Score: 0.5309524478997747\n",
      "Cophenetic Correlation Coefficient: 0.7688523329724083\n"
     ]
    }
   ],
   "source": [
    "# Silhouette Score\n",
    "silhouette_avg = silhouette_score(data_without_age_income, clusters)\n",
    "print(f\"Silhouette Score: {silhouette_avg}\")\n",
    "\n",
    "# Cophenetic Correlation Coefficient\n",
    "coph_corr, _ = cophenet(linkage_matrix, pdist(data_without_age_income))\n",
    "print(f\"Cophenetic Correlation Coefficient: {coph_corr}\")"
   ]
  },
  {
   "cell_type": "markdown",
   "id": "db3243ea",
   "metadata": {},
   "source": [
    "### Analysis\n",
    "\n",
    "- The cluster assignments show 14 distinct clusters.\n",
    "- The Silhouette Score of approximately 0.53 indicates a relatively high level of separation between clusters\n",
    "- The Cophenetic Correlation Coefficient of about 0.77 suggests a high fidelity in preserving pairwise distances through hierarchical clustering. \n",
    "\n",
    "Fourteen clusters imply that there are fourteen distinct groups of people who consider the same set of exterior features when buying a car. Combined with the relatively high silhoutte score, apriori algorithm can be further used to understand the influence the different exterior features exhibit on one another."
   ]
  }
 ],
 "metadata": {
  "kernelspec": {
   "display_name": "Python 3 (ipykernel)",
   "language": "python",
   "name": "python3"
  },
  "language_info": {
   "codemirror_mode": {
    "name": "ipython",
    "version": 3
   },
   "file_extension": ".py",
   "mimetype": "text/x-python",
   "name": "python",
   "nbconvert_exporter": "python",
   "pygments_lexer": "ipython3",
   "version": "3.9.7"
  }
 },
 "nbformat": 4,
 "nbformat_minor": 5
}
